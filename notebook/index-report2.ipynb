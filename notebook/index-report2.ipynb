{
 "cells": [
  {
   "cell_type": "markdown",
   "metadata": {},
   "source": [
    "# Import module"
   ]
  },
  {
   "cell_type": "code",
   "execution_count": 2,
   "metadata": {},
   "outputs": [],
   "source": [
    "import yfinance as yf\n",
    "import mplfinance as mpf\n",
    "import pandas as pd"
   ]
  },
  {
   "cell_type": "code",
   "execution_count": 3,
   "metadata": {},
   "outputs": [
    {
     "name": "stderr",
     "output_type": "stream",
     "text": [
      "[*********************100%***********************]  1 of 1 completed"
     ]
    },
    {
     "name": "stdout",
     "output_type": "stream",
     "text": [
      "buy_signals                     Open          High           Low         Close  \\\n",
      "Date                                                                 \n",
      "2019-04-30   5247.726074   5363.257324   5224.189941   5350.726562   \n",
      "2020-01-20   8704.631836   8745.590820   8560.473633   8657.642578   \n",
      "2020-05-07   9261.895508   9992.664062   9138.322266   9951.518555   \n",
      "2021-08-13  44439.691406  47831.976562  44282.417969  47793.320312   \n",
      "2022-04-01  45554.164062  46616.242188  44403.140625  46281.644531   \n",
      "2023-01-19  20686.746094  21163.011719  20685.380859  21086.792969   \n",
      "2023-06-24  30708.738281  30804.148438  30290.146484  30548.695312   \n",
      "2023-10-23  30140.685547  34370.437500  30097.828125  33086.234375   \n",
      "2024-07-31  66201.273438  66810.210938  64532.046875  64619.250000   \n",
      "\n",
      "               Adj Close       Volume          MA20         MA120  \\\n",
      "Date                                                                \n",
      "2019-04-30   5350.726562  13878964574   5265.276221   4144.115269   \n",
      "2020-01-20   8657.642578  26422375678   8118.971240   8066.770597   \n",
      "2020-05-07   9951.518555  61112700562   8125.304810   8105.130892   \n",
      "2021-08-13  47793.320312  31744259539  41742.185547  41362.048145   \n",
      "2022-04-01  46281.644531  38162644287  43181.380469  43138.426790   \n",
      "2023-01-19  21086.792969  21152848261  18427.990039  18232.133171   \n",
      "2023-06-24  30548.695312  12147822496  27109.189453  27005.700374   \n",
      "2023-10-23  33086.234375  38363572311  28260.962012  28204.451139   \n",
      "2024-07-31  64619.250000  31292785994  65214.571289  64904.190918   \n",
      "\n",
      "            MA20_above_MA120 MA20_cross_MA120 previous_MA20_above_MA120  \n",
      "Date                                                                     \n",
      "2019-04-30              True             True                     False  \n",
      "2020-01-20              True             True                     False  \n",
      "2020-05-07              True             True                     False  \n",
      "2021-08-13              True             True                     False  \n",
      "2022-04-01              True             True                     False  \n",
      "2023-01-19              True             True                     False  \n",
      "2023-06-24              True             True                     False  \n",
      "2023-10-23              True             True                     False  \n",
      "2024-07-31              True             True                     False  \n",
      "sell_signals 9\n"
     ]
    },
    {
     "name": "stderr",
     "output_type": "stream",
     "text": [
      "\n"
     ]
    }
   ],
   "source": [
    "data = yf.download(\"BTC-USD\", start=\"2019-01-01\" ,period=\"1d\") \n",
    "\n",
    "data['MA20'] = data['Close'].rolling(window=20).mean()\n",
    "data['MA120'] = data['Close'].rolling(window=120).mean()\n",
    "\n",
    "data['MA20_above_MA120'] = data['MA20'] > data['MA120']\n",
    "\n",
    "data['previous_MA20_above_MA120'] = data['MA20_above_MA120'].shift(1)\n",
    "# Compare and get buy/sell signals data from cross signals\n",
    "buy_signals = data[((data['previous_MA20_above_MA120'] == False) & (data['MA20_above_MA120'] == True))]\n",
    "sell_signals = data[((data['previous_MA20_above_MA120'] == True) & (data['MA20_above_MA120'] == False))]\n",
    "\n",
    "buy_signals = buy_signals.rename(columns={'index': 'date'})\n",
    "buy_signals = buy_signals.reset_index()\n",
    "sell_signals = sell_signals.rename(columns={'index': 'date'})\n",
    "sell_signals = sell_signals.reset_index()\n"
   ]
  },
  {
   "cell_type": "code",
   "execution_count": 13,
   "metadata": {},
   "outputs": [
    {
     "name": "stdout",
     "output_type": "stream",
     "text": [
      "   index     Buy on    Sell on        Buy at       Sell at           %\n",
      "0      0 2019-04-30 2019-09-24   5350.726562   8620.566406  161.110203\n",
      "1      1 2020-01-20 2020-03-14   8657.642578   5200.366211   60.066769\n",
      "2      2 2020-05-07 2021-05-21   9951.518555  37304.691406  374.864310\n",
      "3      3 2021-08-13 2021-12-12  47793.320312  50098.335938  104.822882\n",
      "4      4 2022-04-01 2022-04-22  46281.644531  39740.320312   85.866267\n",
      "5      5 2023-01-19 2023-06-15  21086.792969  25576.394531  121.291059\n",
      "6      6 2023-06-24 2023-08-22  30548.695312  26031.656250   85.213643\n",
      "7      7 2023-10-23 2024-06-25  33086.234375  61804.640625  186.798654\n",
      "8      8 2024-07-31 2024-08-06  64619.250000  56034.316406   86.714588\n"
     ]
    }
   ],
   "source": [
    "result_table = buy_signals.merge(how=\"inner\", on=\"index\", right=sell_signals)\n",
    "result_table['%'] = result_table['Close_y'] / result_table['Close_x'] * 100\n",
    "# # Display the table\n",
    "res = result_table[[\"index\", \"Date_x\", \"Date_y\", \"Close_x\", \"Close_y\", \"%\"]]\n",
    "res = res.rename(columns={'Date_x': 'Buy on', 'Date_y': 'Sell on', 'Close_x': 'Buy at', 'Close_y': 'Sell at'})\n",
    "print(res)\n",
    "\n",
    "res.to_csv('Last_results_tables.csv')\n",
    "\n",
    "# Plot the candlestick chart with moving averages\n",
    "apds = [\n",
    "    mpf.make_addplot(data['MA20'], type='line', color='blue'),\n",
    "    mpf.make_addplot(data['MA120'], type='line', color='orange')\n",
    "]\n",
    "\n",
    "mpf.plot(data, type='candle', volume=True, style='yahoo', addplot=apds)"
   ]
  }
 ],
 "metadata": {
  "kernelspec": {
   "display_name": ".venv",
   "language": "python",
   "name": "python3"
  },
  "language_info": {
   "codemirror_mode": {
    "name": "ipython",
    "version": 3
   },
   "file_extension": ".py",
   "mimetype": "text/x-python",
   "name": "python",
   "nbconvert_exporter": "python",
   "pygments_lexer": "ipython3",
   "version": "3.11.9"
  }
 },
 "nbformat": 4,
 "nbformat_minor": 2
}
